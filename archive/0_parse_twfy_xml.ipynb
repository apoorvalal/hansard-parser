{
 "cells": [
  {
   "cell_type": "code",
   "execution_count": 1,
   "metadata": {},
   "outputs": [],
   "source": [
    "# pyscience imports\n",
    "import os\n",
    "import sys\n",
    "import glob\n",
    "import numpy as np\n",
    "import pandas as pd\n",
    "import statsmodels.api as sm\n",
    "import statsmodels.formula.api as smf\n",
    "\n",
    "import matplotlib.pyplot as plt\n",
    "import seaborn as sns\n",
    "plt.style.use(\"seaborn-darkgrid\")\n",
    "# plt.style.use(\"dark_background\")\n",
    "sns.set(style=\"ticks\", context=\"talk\")\n",
    "# %matplotlib inline\n",
    "# run for jupyter notebook\n",
    "from IPython.core.interactiveshell import InteractiveShell\n",
    "InteractiveShell.ast_node_interactivity = 'all'"
   ]
  },
  {
   "cell_type": "code",
   "execution_count": 2,
   "metadata": {},
   "outputs": [],
   "source": [
    "from pprint import pprint\n",
    "import re\n",
    "import string\n",
    "import numpy as np\n",
    "import pandas as pd\n",
    "import copy\n",
    "import itertools\n",
    "from bs4 import BeautifulSoup\n",
    "import xml.etree.ElementTree as ET\n",
    "from urllib import request\n",
    "from collections import Counter\n",
    "import json\n",
    "from joblib import Parallel, delayed\n",
    "import multiprocessing\n",
    "\n",
    "import nltk\n",
    "from nltk import word_tokenize\n",
    "from nltk import bigrams\n",
    "from nltk import trigrams\n",
    "from nltk import ngrams\n",
    "from nltk.stem import PorterStemmer\n",
    "from nltk import word_tokenize"
   ]
  },
  {
   "cell_type": "code",
   "execution_count": 3,
   "metadata": {},
   "outputs": [
    {
     "name": "stdout",
     "output_type": "stream",
     "text": [
      "/home/apoorval/HW/452/Hansard\n"
     ]
    }
   ],
   "source": [
    "dbhome   = '/home/alal/Dropbox/0_GradSchool/1_HW/452/Hansard/'\n",
    "ricehome = '/home/apoorval/HW/452/Hansard/'\n",
    "home = ricehome\n",
    "twfy_root = home + 'input/twfy/'\n",
    "twfy = twfy_root + '2010+/'\n",
    "jsons = home + 'input/twfy/jsons/'\n",
    "%cd $home"
   ]
  },
  {
   "cell_type": "markdown",
   "metadata": {},
   "source": [
    "# Parse XMLs \n",
    "Dry run"
   ]
  },
  {
   "cell_type": "markdown",
   "metadata": {},
   "source": [
    "## Function to parse XML and populate list of speeches "
   ]
  },
  {
   "cell_type": "code",
   "execution_count": 6,
   "metadata": {},
   "outputs": [],
   "source": [
    "def twfy_parser(infile, inpdir = twfy, outdir = jsons):\n",
    "    tree = ET.parse(inpdir + infile)\n",
    "    root = tree.getroot()\n",
    "    list_of_speeches = []\n",
    "    for sp in tree.findall('speech'):\n",
    "        # dict with metadata\n",
    "        d =  sp.attrib\n",
    "        # speech tag\n",
    "        s = sp.findall('p')\n",
    "        if s:\n",
    "            # extract speeches\n",
    "            statement = [x.text for x in s if x is not None]\n",
    "            statement = ' '.join([x for x in statement if x])\n",
    "        d['speech'] = statement\n",
    "        list_of_speeches.append(d)\n",
    "    # if there is a single speech\n",
    "    if len(list_of_speeches) > 0:\n",
    "        outfile = outdir + infile.replace('xml', 'json')\n",
    "        json.dump(list_of_speeches, open(outfile, 'w'))\n",
    "        return list_of_speeches"
   ]
  },
  {
   "cell_type": "code",
   "execution_count": 7,
   "metadata": {},
   "outputs": [],
   "source": [
    "parl = os.listdir(twfy)"
   ]
  },
  {
   "cell_type": "markdown",
   "metadata": {},
   "source": [
    "## Parallelise Parsing and Writing to JSON"
   ]
  },
  {
   "cell_type": "code",
   "execution_count": 8,
   "metadata": {},
   "outputs": [
    {
     "name": "stdout",
     "output_type": "stream",
     "text": [
      "CPU times: user 4.93 s, sys: 981 ms, total: 5.91 s\n",
      "Wall time: 25.5 s\n"
     ]
    }
   ],
   "source": [
    "%%time\n",
    "num_cores = multiprocessing.cpu_count()\n",
    "res = Parallel(n_jobs = num_cores)(delayed(twfy_parser)(p) for p in parl)"
   ]
  },
  {
   "cell_type": "code",
   "execution_count": 9,
   "metadata": {},
   "outputs": [
    {
     "data": {
      "text/plain": [
       "1730"
      ]
     },
     "execution_count": 9,
     "metadata": {},
     "output_type": "execute_result"
    }
   ],
   "source": [
    "len(res)"
   ]
  },
  {
   "cell_type": "code",
   "execution_count": 10,
   "metadata": {},
   "outputs": [
    {
     "data": {
      "text/plain": [
       "1569"
      ]
     },
     "execution_count": 10,
     "metadata": {},
     "output_type": "execute_result"
    }
   ],
   "source": [
    "speeches = [x for x in res if x is not None]\n",
    "len(speeches)\n",
    "big_speech_list = [speech for day in speeches for speech in day]"
   ]
  },
  {
   "cell_type": "code",
   "execution_count": 11,
   "metadata": {},
   "outputs": [
    {
     "data": {
      "text/plain": [
       "434719"
      ]
     },
     "execution_count": 11,
     "metadata": {},
     "output_type": "execute_result"
    }
   ],
   "source": [
    "len(big_speech_list)"
   ]
  },
  {
   "cell_type": "code",
   "execution_count": 12,
   "metadata": {},
   "outputs": [],
   "source": [
    "outfile = jsons + '_all_speeches.json'\n",
    "json.dump(big_speech_list, open(outfile, 'w'))"
   ]
  },
  {
   "cell_type": "markdown",
   "metadata": {},
   "source": [
    "# Read JSONs"
   ]
  },
  {
   "cell_type": "code",
   "execution_count": 13,
   "metadata": {},
   "outputs": [],
   "source": [
    "big_speech_list = json.load(open(jsons + '_all_speeches.json'))"
   ]
  },
  {
   "cell_type": "code",
   "execution_count": 14,
   "metadata": {},
   "outputs": [
    {
     "data": {
      "text/plain": [
       "434719"
      ]
     },
     "execution_count": 14,
     "metadata": {},
     "output_type": "execute_result"
    }
   ],
   "source": [
    "len(big_speech_list)"
   ]
  },
  {
   "cell_type": "code",
   "execution_count": 15,
   "metadata": {},
   "outputs": [
    {
     "data": {
      "text/plain": [
       "[{'id': 'uk.org.publicwhip/debate/2017-10-09a.74.1',\n",
       "  'speakername': 'Chris Stephens',\n",
       "  'person_id': 'uk.org.publicwhip/person/25306',\n",
       "  'colnum': '74',\n",
       "  'time': '18:19:00',\n",
       "  'url': '',\n",
       "  'speech': 'On a point of order, Mr Speaker. Last month, '},\n",
       " {'id': 'uk.org.publicwhip/debate/2011-10-17a.603.2',\n",
       "  'nospeaker': 'true',\n",
       "  'colnum': '603',\n",
       "  'time': '14:30:00',\n",
       "  'url': 'http://www.publications.parliament.uk/pa/cm201011/cmhansrd/cm111017/debtext/111017-0001.htm#111017-0001.htm_dpthd0',\n",
       "  'speech': 'The Secretary of State was asked—'},\n",
       " {'id': 'uk.org.publicwhip/debate/2011-10-17a.603.4',\n",
       "  'speakerid': 'uk.org.publicwhip/member/40395',\n",
       "  'speakername': 'Annette Brooke',\n",
       "  'oral-qnum': '1',\n",
       "  'colnum': '603',\n",
       "  'time': '14:30:00',\n",
       "  'url': 'http://www.publications.parliament.uk/pa/cm201011/cmhansrd/cm111017/debtext/111017-0001.htm#1110177000414',\n",
       "  'speech': 'What assessment he has made of the 2011 GCSE results for academies; and if he will make a statement.'},\n",
       " {'id': 'uk.org.publicwhip/debate/2011-10-17a.603.5',\n",
       "  'speakerid': 'uk.org.publicwhip/member/40097',\n",
       "  'speakername': 'Nick Gibb',\n",
       "  'speakeroffice': 'The Minister of State, Department for Education',\n",
       "  'colnum': '603',\n",
       "  'time': '14:30:00',\n",
       "  'url': 'http://www.publications.parliament.uk/pa/cm201011/cmhansrd/cm111017/debtext/111017-0001.htm#1110177000415',\n",
       "  'speech': 'The 2011 GCSE self-reported figures from academies suggest an increase of 5.6 percentage points in the proportion of pupils achieving five or more GCSEs at grades A* to C, including English and maths. That increase is, once again, greater than the historical national improvement rates for all maintained schools. Individual 2011 GCSE school level results will be not be available until January 2012.'},\n",
       " {'id': 'uk.org.publicwhip/debate/2011-10-17a.603.6',\n",
       "  'speakerid': 'uk.org.publicwhip/member/40395',\n",
       "  'speakername': 'Annette Brooke',\n",
       "  'colnum': '603',\n",
       "  'time': '14:30:00',\n",
       "  'url': 'http://www.publications.parliament.uk/pa/cm201011/cmhansrd/cm111017/debtext/111017-0001.htm#1110177000416',\n",
       "  'speech': \"I thank the Minister for his answer, and I congratulate all those pupils who did so well this summer, but I seek assurances from him. In the event of less than 10% of an academy's pupils achieving five A to C grades at GCSE, or even of less than 5%, would he expect full involvement from the local authority, playing a key role? Also, will he be giving support from his Department?\"}]"
      ]
     },
     "execution_count": 15,
     "metadata": {},
     "output_type": "execute_result"
    }
   ],
   "source": [
    "big_speech_list[:5]"
   ]
  },
  {
   "cell_type": "markdown",
   "metadata": {},
   "source": [
    "# Speaker Lists "
   ]
  },
  {
   "cell_type": "code",
   "execution_count": 20,
   "metadata": {},
   "outputs": [],
   "source": [
    "speakers = {}"
   ]
  },
  {
   "cell_type": "code",
   "execution_count": 24,
   "metadata": {},
   "outputs": [],
   "source": [
    "for x in big_speech_list:\n",
    "    speakerid = x.get(\"person_id\", None)\n",
    "    speakername = x.get(\"speakername\", None)\n",
    "    if speakername is not None:\n",
    "        if x.get(speakerid, None) is not None:\n",
    "            speakers[speakername].append(speakerid)\n",
    "        else:\n",
    "            speakers[speakername] = speakerid"
   ]
  },
  {
   "cell_type": "code",
   "execution_count": 25,
   "metadata": {},
   "outputs": [
    {
     "data": {
      "text/plain": [
       "{'Chris Stephens': None,\n",
       " 'Annette Brooke': 'uk.org.publicwhip/member/40395',\n",
       " 'Nick Gibb': None,\n",
       " 'Chi Onwurah': 'uk.org.publicwhip/member/40419',\n",
       " 'James Gray': None}"
      ]
     },
     "execution_count": 25,
     "metadata": {},
     "output_type": "execute_result"
    }
   ],
   "source": [
    "{k: speakers[k] for k in list(speakers)[:5]}"
   ]
  },
  {
   "cell_type": "code",
   "execution_count": 18,
   "metadata": {},
   "outputs": [],
   "source": [
    "speaks = pd.DataFrame.from_dict(speakers, orient = 'index')\n",
    "speaks.columns = ['person_name']"
   ]
  },
  {
   "cell_type": "code",
   "execution_count": 19,
   "metadata": {},
   "outputs": [
    {
     "data": {
      "text/html": [
       "<div>\n",
       "<style scoped>\n",
       "    .dataframe tbody tr th:only-of-type {\n",
       "        vertical-align: middle;\n",
       "    }\n",
       "\n",
       "    .dataframe tbody tr th {\n",
       "        vertical-align: top;\n",
       "    }\n",
       "\n",
       "    .dataframe thead th {\n",
       "        text-align: right;\n",
       "    }\n",
       "</style>\n",
       "<table border=\"1\" class=\"dataframe\">\n",
       "  <thead>\n",
       "    <tr style=\"text-align: right;\">\n",
       "      <th></th>\n",
       "      <th>person_name</th>\n",
       "    </tr>\n",
       "  </thead>\n",
       "  <tbody>\n",
       "    <tr>\n",
       "      <th>Chris Stephens</th>\n",
       "      <td>None</td>\n",
       "    </tr>\n",
       "    <tr>\n",
       "      <th>Annette Brooke</th>\n",
       "      <td>uk.org.publicwhip/member/40395</td>\n",
       "    </tr>\n",
       "    <tr>\n",
       "      <th>Nick Gibb</th>\n",
       "      <td>None</td>\n",
       "    </tr>\n",
       "    <tr>\n",
       "      <th>Chi Onwurah</th>\n",
       "      <td>uk.org.publicwhip/member/40419</td>\n",
       "    </tr>\n",
       "    <tr>\n",
       "      <th>James Gray</th>\n",
       "      <td>None</td>\n",
       "    </tr>\n",
       "  </tbody>\n",
       "</table>\n",
       "</div>"
      ],
      "text/plain": [
       "                                   person_name\n",
       "Chris Stephens                            None\n",
       "Annette Brooke  uk.org.publicwhip/member/40395\n",
       "Nick Gibb                                 None\n",
       "Chi Onwurah     uk.org.publicwhip/member/40419\n",
       "James Gray                                None"
      ]
     },
     "execution_count": 19,
     "metadata": {},
     "output_type": "execute_result"
    }
   ],
   "source": [
    "speaks.head()"
   ]
  },
  {
   "cell_type": "code",
   "execution_count": 61,
   "metadata": {},
   "outputs": [
    {
     "name": "stdout",
     "output_type": "stream",
     "text": [
      "/home/apoorval/HW/452/Hansard/input/twfy\n"
     ]
    }
   ],
   "source": [
    "%cd $twfy_root\n",
    "%mkdir tmp -p"
   ]
  },
  {
   "cell_type": "code",
   "execution_count": 62,
   "metadata": {},
   "outputs": [],
   "source": [
    "speaks.to_csv(twfy_root + 'tmp/speaker_list.csv')"
   ]
  },
  {
   "cell_type": "code",
   "execution_count": null,
   "metadata": {},
   "outputs": [],
   "source": []
  }
 ],
 "metadata": {
  "kernelspec": {
   "display_name": "Python 3",
   "language": "python",
   "name": "python3"
  },
  "language_info": {
   "codemirror_mode": {
    "name": "ipython",
    "version": 3
   },
   "file_extension": ".py",
   "mimetype": "text/x-python",
   "name": "python",
   "nbconvert_exporter": "python",
   "pygments_lexer": "ipython3",
   "version": "3.6.5"
  }
 },
 "nbformat": 4,
 "nbformat_minor": 2
}
